{
 "cells": [
  {
   "cell_type": "code",
   "execution_count": 1,
   "id": "1d83d36c-3d23-4bf2-aba7-a63539c3b58b",
   "metadata": {},
   "outputs": [],
   "source": [
    "def neural_network(input, weights):\n",
    "    hl1_pred = vec_mat_mult(input, weights[0])\n",
    "    print(f'prediction for hl1: {hl1_pred}')\n",
    "    out_pred = vec_mat_mult(hl1_pred, weights[1])\n",
    "\n",
    "    return out_pred\n",
    "\n",
    "def vec_mat_mult(vec, mat):\n",
    "    assert (len(vec) == len(mat))\n",
    "\n",
    "    output = [0,0,0]\n",
    "\n",
    "    for i in range(len(vec)):\n",
    "        output[i] = w_sum(vec, mat[i])\n",
    "\n",
    "    return output\n",
    "\n",
    "def w_sum(vec1, vec2):\n",
    "    assert (len(vec1) == len(vec2))\n",
    "    output = 0\n",
    "\n",
    "    for i in range (len(vec1)):\n",
    "        output += vec1[i] * vec2[i]\n",
    "\n",
    "    return output"
   ]
  },
  {
   "cell_type": "code",
   "execution_count": 2,
   "id": "ef2021bb-d9ac-47ca-9bbf-51deea3224c9",
   "metadata": {},
   "outputs": [
    {
     "name": "stdout",
     "output_type": "stream",
     "text": [
      "prediction for hl1: [0.555, 0.9800000000000001, 0.9650000000000001]\n",
      "prediction based on row 3 is: [0.9550000000000003, 0.25150000000000006, 1.3705000000000003]\n"
     ]
    }
   ],
   "source": [
    "# note that the following are informal representations of weight matrices, formally weights are stored in column vectors\n",
    "hl1_weights = [\n",
    "     #i1, #i2, #i3\n",
    "    [0.1, 0.1, -0.3], #weights for hl1_output_1\n",
    "    [0.1, 0.2, 0.0], #weights for hl1_output_2\n",
    "    [0.0, 1.3, 0.1], #weights for hl1_output_3\n",
    "]\n",
    "\n",
    "outl_weights = [\n",
    "     #i1, #i2, #i3\n",
    "    [0.3, 1.1, -0.3], #weights for outl_output_1\n",
    "    [0.1, 0.2, 0.0], #weights for outl_output_2\n",
    "    [0.0, 1.3, 0.1], #weights for outl_output_3\n",
    "]\n",
    "\n",
    "weights = [hl1_weights, outl_weights]\n",
    "\n",
    "# input could be a table with multiple colums, each column is a datapoint and each row is fed as input to the neural network\n",
    "input = [\n",
    "     #r1, #r2, #r3, #r4\n",
    "    [8.5, 9.5, 8.5, 9.9, 9.0], #datapoint (or col) 1\n",
    "    [0.65, 0.8, 0.65, 0.8, 0.9], #datapoint (or col) 2\n",
    "    [1.2, 1.3, 1.2, 0.5, 1.0], #datapoint (or col) 3\n",
    "]\n",
    "\n",
    "row_index = 2\n",
    "row_input = [input[0][row_index], input[1][row_index], input[2][row_index]]\n",
    "\n",
    "prediction = neural_network(row_input, weights)\n",
    "\n",
    "print(f'prediction based on row {row_index + 1} is: {prediction}')"
   ]
  }
 ],
 "metadata": {
  "kernelspec": {
   "display_name": "Python 3 (ipykernel)",
   "language": "python",
   "name": "python3"
  },
  "language_info": {
   "codemirror_mode": {
    "name": "ipython",
    "version": 3
   },
   "file_extension": ".py",
   "mimetype": "text/x-python",
   "name": "python",
   "nbconvert_exporter": "python",
   "pygments_lexer": "ipython3",
   "version": "3.12.3"
  }
 },
 "nbformat": 4,
 "nbformat_minor": 5
}
