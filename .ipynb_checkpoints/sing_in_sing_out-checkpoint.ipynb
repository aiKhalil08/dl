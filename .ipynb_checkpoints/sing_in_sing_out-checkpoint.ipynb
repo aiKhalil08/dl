{
 "cells": [
  {
   "cell_type": "code",
   "execution_count": 2,
   "id": "67ba53ab-2f8d-4534-9f46-7c5ee3ed17d0",
   "metadata": {},
   "outputs": [],
   "source": [
    "weight = 0.1\n",
    "def neural_network(input, weight):\n",
    "    prediction = input * weight\n",
    "    return prediction"
   ]
  },
  {
   "cell_type": "code",
   "execution_count": null,
   "id": "b6298a31-7811-48a6-96b9-42c1a0dd704d",
   "metadata": {},
   "outputs": [],
   "source": [
    "number_of_toe = [8.5, 9.5, 10, 9]\n",
    "input = number_of_toes[0]\n",
    "pred = neurald_network(input, weight)\n",
    "print(pred)"
   ]
  }
 ],
 "metadata": {
  "kernelspec": {
   "display_name": "Python 3 (ipykernel)",
   "language": "python",
   "name": "python3"
  },
  "language_info": {
   "codemirror_mode": {
    "name": "ipython",
    "version": 3
   },
   "file_extension": ".py",
   "mimetype": "text/x-python",
   "name": "python",
   "nbconvert_exporter": "python",
   "pygments_lexer": "ipython3",
   "version": "3.12.3"
  }
 },
 "nbformat": 4,
 "nbformat_minor": 5
}
