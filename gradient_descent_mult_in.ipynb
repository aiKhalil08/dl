{
 "cells": [
  {
   "cell_type": "code",
   "execution_count": 34,
   "metadata": {},
   "outputs": [],
   "source": [
    "def neural_network(input, weights):\n",
    "    pred = w_sum(input, weights)\n",
    "    return pred\n",
    "\n",
    "def w_sum(vec1, vec2):\n",
    "    assert(len(vec1) == len(vec2))\n",
    "\n",
    "    output = 0\n",
    "\n",
    "    for i in range(len(vec1)):\n",
    "        output += vec1[i] * vec2[i]\n",
    "\n",
    "    return output\n",
    "\n",
    "def elem_mul(scal, vec):\n",
    "    output = [0,0,0]\n",
    "\n",
    "    assert(len(output) == len(vec))\n",
    "\n",
    "    for i in range(len(vec)):\n",
    "        output[i] = scal * vec[i]\n",
    "    \n",
    "    return output"
   ]
  },
  {
   "cell_type": "code",
   "execution_count": 35,
   "metadata": {},
   "outputs": [],
   "source": [
    "toes = [8.5, 9.5, 9.9, 9.0]\n",
    "wlrec = [0.65, 0.8, 0.8, 0.9]\n",
    "nfans = [1.2, 1.3, 0.5, 1.0]\n",
    "win_or_lose_binary = [1, 1, 0, 1]\n",
    "true = win_or_lose_binary[0]\n",
    "alpha = 0.01\n",
    "weights = [0.1, 0.2, -.1]\n",
    "input = [toes[0],wlrec[0],nfans[0]]"
   ]
  },
  {
   "cell_type": "code",
   "execution_count": 36,
   "metadata": {},
   "outputs": [
    {
     "name": "stdout",
     "output_type": "stream",
     "text": [
      "iteration 0\n",
      "weights = [0.1, 0.2, -0.1]\n",
      "prediction = 0.8600000000000001\n",
      "error = 0.01959999999999997\n",
      "delta = -0.1399999999999999\n",
      "weight_deltas = [0, -0.09099999999999994, -0.16799999999999987]\n",
      "\n",
      "iteration 1\n",
      "weights = [0.1, 0.2273, -0.04960000000000005]\n",
      "prediction = 0.9382250000000001\n",
      "error = 0.003816150624999989\n",
      "delta = -0.06177499999999991\n",
      "weight_deltas = [0, -0.040153749999999946, -0.07412999999999989]\n",
      "\n",
      "iteration 2\n",
      "weights = [0.1, 0.239346125, -0.02736100000000008]\n",
      "prediction = 0.97274178125\n",
      "error = 0.000743010489422852\n",
      "delta = -0.027258218750000007\n",
      "weight_deltas = [0, -0.017717842187500006, -0.032709862500000006]\n",
      "\n"
     ]
    }
   ],
   "source": [
    "for i in range(3):\n",
    "    pred = neural_network(input, weights)\n",
    "    error = (pred - true) ** 2\n",
    "    delta = pred - true\n",
    "\n",
    "    weight_deltas = elem_mul(delta, input)\n",
    "    # weight_deltas[0] = 0 frozen weight\n",
    "\n",
    "    print(f\"iteration {i}\\nweights = {weights}\\nprediction = {pred}\\nerror = {error}\\ndelta = {delta}\")\n",
    "\n",
    "    for j in range(len(weights)):\n",
    "        weights[j] -= alpha * weight_deltas[j]\n",
    "\n",
    "    print(f\"weight_deltas = {weight_deltas}\\n\")\n"
   ]
  }
 ],
 "metadata": {
  "kernelspec": {
   "display_name": "venv",
   "language": "python",
   "name": "python3"
  },
  "language_info": {
   "codemirror_mode": {
    "name": "ipython",
    "version": 3
   },
   "file_extension": ".py",
   "mimetype": "text/x-python",
   "name": "python",
   "nbconvert_exporter": "python",
   "pygments_lexer": "ipython3",
   "version": "3.12.3"
  }
 },
 "nbformat": 4,
 "nbformat_minor": 2
}
