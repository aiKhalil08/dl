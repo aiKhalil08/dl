{
 "cells": [
  {
   "cell_type": "code",
   "execution_count": 1,
   "id": "1a6bb0d8-99a3-4cc1-9cbf-ccf750023661",
   "metadata": {},
   "outputs": [
    {
     "name": "stdout",
     "output_type": "stream",
     "text": [
      "error is 0.30250000000000005\n"
     ]
    }
   ],
   "source": [
    "weight = 0.5\n",
    "input = 0.5\n",
    "goal_pred = 0.8\n",
    "\n",
    "pred = input * weight\n",
    "\n",
    "error = (pred - goal_pred) ** 2\n",
    "\n",
    "print(f\"error is {error}\")"
   ]
  },
  {
   "cell_type": "code",
   "execution_count": null,
   "id": "d2a16185-c566-4674-b483-c2395621f9b7",
   "metadata": {},
   "outputs": [],
   "source": []
  }
 ],
 "metadata": {
  "kernelspec": {
   "display_name": "Python 3 (ipykernel)",
   "language": "python",
   "name": "python3"
  },
  "language_info": {
   "codemirror_mode": {
    "name": "ipython",
    "version": 3
   },
   "file_extension": ".py",
   "mimetype": "text/x-python",
   "name": "python",
   "nbconvert_exporter": "python",
   "pygments_lexer": "ipython3",
   "version": "3.13.7"
  }
 },
 "nbformat": 4,
 "nbformat_minor": 5
}
