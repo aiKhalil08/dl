{
 "cells": [
  {
   "cell_type": "code",
   "execution_count": 1,
   "id": "7c228a79-09a0-495f-a1bb-a47f08b07a64",
   "metadata": {},
   "outputs": [],
   "source": [
    "weights = [[0.1, 0.1, -0.3],\n",
    "           [0.1, 0.2, 0.0],\n",
    "           [0.0, 1.3, 0.1]]\n",
    "input = [8.5, 0.65, 1.2]\n",
    "\n",
    "def neural_network(input, weights):\n",
    "    pred = vec_mat_mul(input, weights)\n",
    "    return pred"
   ]
  },
  {
   "cell_type": "code",
   "execution_count": 2,
   "id": "fd766a41-13b3-453d-801d-182c93bba49e",
   "metadata": {},
   "outputs": [],
   "source": [
    "def vec_mat_mul(vec, mat):\n",
    "    assert (len(vec) == len(mat))\n",
    "\n",
    "    output = [0,0,0]\n",
    "\n",
    "    for i in range(len(vec)):\n",
    "        output[i] = w_sum(vec, mat[i])\n",
    "\n",
    "    return output"
   ]
  },
  {
   "cell_type": "code",
   "execution_count": 3,
   "id": "1ad6719a-66b4-4f2f-a9de-723d31393a00",
   "metadata": {},
   "outputs": [],
   "source": [
    "def w_sum(vec1, vec2):\n",
    "    assert(len(vec1) == len(vec2))\n",
    "    output = 0\n",
    "    for i in range(len(vec1)):\n",
    "        output += vec1[i] * vec2[i]\n",
    "\n",
    "    return output"
   ]
  },
  {
   "cell_type": "code",
   "execution_count": 4,
   "id": "4fa4dab4-6de2-47c9-99bd-6abbf3a0bb30",
   "metadata": {},
   "outputs": [
    {
     "name": "stdout",
     "output_type": "stream",
     "text": [
      "[0.555, 0.9800000000000001, 0.9650000000000001]\n"
     ]
    }
   ],
   "source": [
    "pred = neural_network(input, weights)\n",
    "print(pred)"
   ]
  }
 ],
 "metadata": {
  "kernelspec": {
   "display_name": "Python 3 (ipykernel)",
   "language": "python",
   "name": "python3"
  },
  "language_info": {
   "codemirror_mode": {
    "name": "ipython",
    "version": 3
   },
   "file_extension": ".py",
   "mimetype": "text/x-python",
   "name": "python",
   "nbconvert_exporter": "python",
   "pygments_lexer": "ipython3",
   "version": "3.12.3"
  }
 },
 "nbformat": 4,
 "nbformat_minor": 5
}
