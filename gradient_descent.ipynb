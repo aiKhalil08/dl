{
 "cells": [
  {
   "cell_type": "code",
   "execution_count": 1,
   "metadata": {},
   "outputs": [],
   "source": [
    "weight = 0.5\n",
    "input = 2\n",
    "goal_pred = 0.8\n",
    "alpha = -0.1"
   ]
  },
  {
   "cell_type": "code",
   "execution_count": 2,
   "metadata": {},
   "outputs": [
    {
     "name": "stdout",
     "output_type": "stream",
     "text": [
      "error: 0.03999999999999998, prediction: 1.0\n",
      "pure_error: 0.19999999999999996\n",
      "\n",
      "error: 0.07840000000000001, prediction: 1.08\n",
      "pure_error: 0.28\n",
      "\n",
      "error: 0.1536640000000001, prediction: 1.1920000000000002\n",
      "pure_error: 0.3920000000000001\n",
      "\n",
      "error: 0.3011814400000002, prediction: 1.3488000000000002\n",
      "pure_error: 0.5488000000000002\n",
      "\n",
      "error: 0.5903156224000005, prediction: 1.5683200000000004\n",
      "pure_error: 0.7683200000000003\n",
      "\n",
      "error: 1.157018619904001, prediction: 1.8756480000000004\n",
      "pure_error: 1.0756480000000004\n",
      "\n",
      "error: 2.267756495011841, prediction: 2.3059072000000005\n",
      "pure_error: 1.5059072000000004\n",
      "\n",
      "error: 4.444802730223208, prediction: 2.9082700800000008\n",
      "pure_error: 2.1082700800000005\n",
      "\n",
      "error: 8.71181335123749, prediction: 3.751578112000001\n",
      "pure_error: 2.951578112000001\n",
      "\n",
      "error: 17.07515416842548, prediction: 4.932209356800001\n",
      "pure_error: 4.132209356800002\n",
      "\n",
      "error: 33.46730217011394, prediction: 6.585093099520002\n",
      "pure_error: 5.785093099520002\n",
      "\n",
      "error: 65.59591225342334, prediction: 8.899130339328003\n",
      "pure_error: 8.099130339328003\n",
      "\n",
      "error: 128.56798801670973, prediction: 12.138782475059205\n",
      "pure_error: 11.338782475059205\n",
      "\n",
      "error: 251.99325651275115, prediction: 16.67429546508289\n",
      "pure_error: 15.874295465082888\n",
      "\n",
      "error: 493.9067827649922, prediction: 23.024013651116043\n",
      "pure_error: 22.224013651116042\n",
      "\n",
      "error: 968.0572942193847, prediction: 31.91361911156246\n",
      "pure_error: 31.11361911156246\n",
      "\n",
      "error: 1897.3922966699945, prediction: 44.359066756187445\n",
      "pure_error: 43.55906675618745\n",
      "\n",
      "error: 3718.888901473189, prediction: 61.78269345866242\n",
      "pure_error: 60.982693458662425\n",
      "\n",
      "error: 7289.02224688745, prediction: 86.17577084212739\n",
      "pure_error: 85.3757708421274\n",
      "\n",
      "error: 14286.483603899402, prediction: 120.32607917897835\n",
      "pure_error: 119.52607917897835\n",
      "\n"
     ]
    }
   ],
   "source": [
    "for i in range(20):\n",
    "    pred = input * weight\n",
    "    error = (pred - goal_pred) ** 2\n",
    "\n",
    "    print(f\"error: {error}, prediction: {pred}\")\n",
    "\n",
    "    pure_error = pred - goal_pred\n",
    "\n",
    "    print(f\"pure_error: {pure_error}\\n\")\n",
    "\n",
    "    derivative = pure_error * input\n",
    "\n",
    "    weight = weight - (alpha * derivative)"
   ]
  }
 ],
 "metadata": {
  "kernelspec": {
   "display_name": "venv",
   "language": "python",
   "name": "python3"
  },
  "language_info": {
   "codemirror_mode": {
    "name": "ipython",
    "version": 3
   },
   "file_extension": ".py",
   "mimetype": "text/x-python",
   "name": "python",
   "nbconvert_exporter": "python",
   "pygments_lexer": "ipython3",
   "version": "3.12.3"
  }
 },
 "nbformat": 4,
 "nbformat_minor": 4
}
