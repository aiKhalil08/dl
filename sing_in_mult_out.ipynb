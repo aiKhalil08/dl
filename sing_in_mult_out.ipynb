{
 "cells": [
  {
   "cell_type": "code",
   "execution_count": 1,
   "id": "f622efe0-d05f-4473-8415-0274fba01505",
   "metadata": {},
   "outputs": [],
   "source": [
    "wlrec = [0.65, 0.8, 0.8, 0.9]\n",
    "weights = [0.2, 0.3, 0.9]\n",
    "\n",
    "def neural_network(input, weights):\n",
    "    pred = elem_mul(input, weights)\n",
    "    return pred"
   ]
  },
  {
   "cell_type": "code",
   "execution_count": 2,
   "id": "d591b95a-d114-40ed-aefe-6060e48fabf9",
   "metadata": {},
   "outputs": [],
   "source": [
    "def elem_mul(num, vec):\n",
    "    res = [0,0,0]\n",
    "    assert(len(res) == len(vec))\n",
    "    for i in range (len(vec)):\n",
    "        res[i] = num * vec[i]\n",
    "    return res"
   ]
  },
  {
   "cell_type": "code",
   "execution_count": 3,
   "id": "abb0ec64-8d5a-4219-9fc5-4e12975c989d",
   "metadata": {},
   "outputs": [
    {
     "name": "stdout",
     "output_type": "stream",
     "text": [
      "[0.13, 0.195, 0.5850000000000001]\n"
     ]
    }
   ],
   "source": [
    "pred = neural_network(wlrec[0], weights)\n",
    "print(pred)"
   ]
  }
 ],
 "metadata": {
  "kernelspec": {
   "display_name": "Python 3 (ipykernel)",
   "language": "python",
   "name": "python3"
  },
  "language_info": {
   "codemirror_mode": {
    "name": "ipython",
    "version": 3
   },
   "file_extension": ".py",
   "mimetype": "text/x-python",
   "name": "python",
   "nbconvert_exporter": "python",
   "pygments_lexer": "ipython3",
   "version": "3.12.3"
  }
 },
 "nbformat": 4,
 "nbformat_minor": 5
}
